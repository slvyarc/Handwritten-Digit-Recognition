{
  "cells": [
    {
      "cell_type": "markdown",
      "source": [
        "# Import Library yang Diperlukan"
      ],
      "metadata": {
        "id": "fECQFjc2eioD"
      },
      "id": "fECQFjc2eioD"
    },
    {
      "cell_type": "code",
      "execution_count": 1,
      "id": "4e284455",
      "metadata": {
        "id": "4e284455"
      },
      "outputs": [],
      "source": [
        "import numpy as np\n",
        "import matplotlib.pyplot as plt\n",
        "from keras.datasets import mnist\n",
        "from keras.models import Sequential\n",
        "from keras.layers import Conv2D, MaxPooling2D, Flatten, Dense\n",
        "from keras.utils import to_categorical\n",
        "import cv2"
      ]
    },
    {
      "cell_type": "markdown",
      "source": [
        "# Memuat dan Memproses Data MNIST"
      ],
      "metadata": {
        "id": "H-1SBOWqerLU"
      },
      "id": "H-1SBOWqerLU"
    },
    {
      "cell_type": "code",
      "source": [
        "# Memuat dataset MNIST\n",
        "(x_train, y_train), (x_test, y_test) = mnist.load_data()\n",
        "\n",
        "# Menambahkan dimensi ke data agar sesuai dengan input layer CNN\n",
        "x_train = np.expand_dims(x_train, axis=-1)\n",
        "x_test = np.expand_dims(x_test, axis=-1)\n",
        "\n",
        "# Normalisasi data agar nilai pixel berada dalam rentang 0-1\n",
        "x_train = x_train.astype('float32') / 255.0\n",
        "x_test = x_test.astype('float32') / 255.0\n",
        "\n",
        "# Mengubah label menjadi bentuk one-hot encoding\n",
        "y_train = to_categorical(y_train, num_classes=10)\n",
        "y_test = to_categorical(y_test, num_classes=10)"
      ],
      "metadata": {
        "colab": {
          "base_uri": "https://localhost:8080/"
        },
        "id": "2NFP-VK-fJX1",
        "outputId": "5dbbbe88-ccef-41bd-9089-fa081084863d"
      },
      "id": "2NFP-VK-fJX1",
      "execution_count": 2,
      "outputs": [
        {
          "output_type": "stream",
          "name": "stdout",
          "text": [
            "Downloading data from https://storage.googleapis.com/tensorflow/tf-keras-datasets/mnist.npz\n",
            "11490434/11490434 [==============================] - 0s 0us/step\n"
          ]
        }
      ]
    },
    {
      "cell_type": "markdown",
      "source": [
        "# Membangun Model CNN"
      ],
      "metadata": {
        "id": "nId7Xnq1fQjz"
      },
      "id": "nId7Xnq1fQjz"
    },
    {
      "cell_type": "code",
      "source": [
        "# Membangun model CNN dengan beberapa lapisan\n",
        "model = Sequential()\n",
        "model.add(Conv2D(32, (3, 3), activation='relu', input_shape=(28, 28, 1)))\n",
        "model.add(MaxPooling2D((2, 2)))\n",
        "model.add(Conv2D(64, (3, 3), activation='relu'))\n",
        "model.add(MaxPooling2D((2, 2)))\n",
        "model.add(Flatten())\n",
        "model.add(Dense(128, activation='relu'))\n",
        "model.add(Dense(10, activation='softmax'))"
      ],
      "metadata": {
        "id": "3XEM6nYJfSVg"
      },
      "id": "3XEM6nYJfSVg",
      "execution_count": 3,
      "outputs": []
    },
    {
      "cell_type": "markdown",
      "source": [
        "# Kompilasi dan Pelatihan Model"
      ],
      "metadata": {
        "id": "rB2PsPJIfaga"
      },
      "id": "rB2PsPJIfaga"
    },
    {
      "cell_type": "code",
      "source": [
        "# Mengompilasi model dengan optimizer Adam dan loss function categorical crossentropy\n",
        "model.compile(optimizer='adam', loss='categorical_crossentropy', metrics=['accuracy'])\n",
        "\n",
        "# Melatih model dengan data training dan melakukan validasi dengan data testing\n",
        "model.fit(x_train, y_train, batch_size=128, epochs=10, validation_data=(x_test, y_test))"
      ],
      "metadata": {
        "colab": {
          "base_uri": "https://localhost:8080/"
        },
        "id": "lUIHanD4feyR",
        "outputId": "31ab9159-31c9-4f53-a664-70a0f6a537a2"
      },
      "id": "lUIHanD4feyR",
      "execution_count": 4,
      "outputs": [
        {
          "output_type": "stream",
          "name": "stdout",
          "text": [
            "Epoch 1/10\n",
            "469/469 [==============================] - 48s 101ms/step - loss: 0.1965 - accuracy: 0.9438 - val_loss: 0.0701 - val_accuracy: 0.9764\n",
            "Epoch 2/10\n",
            "469/469 [==============================] - 49s 104ms/step - loss: 0.0560 - accuracy: 0.9828 - val_loss: 0.0432 - val_accuracy: 0.9863\n",
            "Epoch 3/10\n",
            "469/469 [==============================] - 45s 95ms/step - loss: 0.0389 - accuracy: 0.9876 - val_loss: 0.0372 - val_accuracy: 0.9880\n",
            "Epoch 4/10\n",
            "469/469 [==============================] - 44s 94ms/step - loss: 0.0297 - accuracy: 0.9909 - val_loss: 0.0319 - val_accuracy: 0.9886\n",
            "Epoch 5/10\n",
            "469/469 [==============================] - 45s 96ms/step - loss: 0.0229 - accuracy: 0.9928 - val_loss: 0.0259 - val_accuracy: 0.9908\n",
            "Epoch 6/10\n",
            "469/469 [==============================] - 47s 100ms/step - loss: 0.0196 - accuracy: 0.9940 - val_loss: 0.0279 - val_accuracy: 0.9910\n",
            "Epoch 7/10\n",
            "469/469 [==============================] - 45s 95ms/step - loss: 0.0152 - accuracy: 0.9954 - val_loss: 0.0320 - val_accuracy: 0.9894\n",
            "Epoch 8/10\n",
            "469/469 [==============================] - 44s 95ms/step - loss: 0.0128 - accuracy: 0.9959 - val_loss: 0.0278 - val_accuracy: 0.9926\n",
            "Epoch 9/10\n",
            "469/469 [==============================] - 45s 96ms/step - loss: 0.0106 - accuracy: 0.9966 - val_loss: 0.0281 - val_accuracy: 0.9926\n",
            "Epoch 10/10\n",
            "469/469 [==============================] - 45s 96ms/step - loss: 0.0078 - accuracy: 0.9976 - val_loss: 0.0315 - val_accuracy: 0.9914\n"
          ]
        },
        {
          "output_type": "execute_result",
          "data": {
            "text/plain": [
              "<keras.src.callbacks.History at 0x7b6b0fe9e5f0>"
            ]
          },
          "metadata": {},
          "execution_count": 4
        }
      ]
    },
    {
      "cell_type": "markdown",
      "source": [
        "# Evaluasi Model"
      ],
      "metadata": {
        "id": "MFG4_fBnfmJ-"
      },
      "id": "MFG4_fBnfmJ-"
    },
    {
      "cell_type": "code",
      "source": [
        "# Mengevaluasi model dengan data testing dan mencetak akurasinya\n",
        "_, accuracy = model.evaluate(x_test, y_test)\n",
        "print('Accuracy: {:.2f}%'.format(accuracy * 100))"
      ],
      "metadata": {
        "colab": {
          "base_uri": "https://localhost:8080/"
        },
        "id": "8NpV14Xqfnja",
        "outputId": "869453e1-3482-465c-d73d-99a76ab602d2"
      },
      "id": "8NpV14Xqfnja",
      "execution_count": 5,
      "outputs": [
        {
          "output_type": "stream",
          "name": "stdout",
          "text": [
            "313/313 [==============================] - 5s 14ms/step - loss: 0.0315 - accuracy: 0.9914\n",
            "Accuracy: 99.14%\n"
          ]
        }
      ]
    },
    {
      "cell_type": "markdown",
      "source": [
        "# Menyimpan Model"
      ],
      "metadata": {
        "id": "t2Pj87W1fvxI"
      },
      "id": "t2Pj87W1fvxI"
    },
    {
      "cell_type": "code",
      "execution_count": 6,
      "id": "d008a75d",
      "metadata": {
        "colab": {
          "base_uri": "https://localhost:8080/"
        },
        "id": "d008a75d",
        "outputId": "b275dcb7-c12b-4127-bd0c-9bf56e3434fe"
      },
      "outputs": [
        {
          "output_type": "stream",
          "name": "stderr",
          "text": [
            "/usr/local/lib/python3.10/dist-packages/keras/src/engine/training.py:3103: UserWarning: You are saving your model as an HDF5 file via `model.save()`. This file format is considered legacy. We recommend using instead the native Keras format, e.g. `model.save('my_model.keras')`.\n",
            "  saving_api.save_model(\n"
          ]
        }
      ],
      "source": [
        "# Menyimpan model yang sudah dilatih dengan nama 'mnist_model.h5'\n",
        "model.save('mnist_model.h5')"
      ]
    }
  ],
  "metadata": {
    "kernelspec": {
      "display_name": "Python 3 (ipykernel)",
      "language": "python",
      "name": "python3"
    },
    "language_info": {
      "codemirror_mode": {
        "name": "ipython",
        "version": 3
      },
      "file_extension": ".py",
      "mimetype": "text/x-python",
      "name": "python",
      "nbconvert_exporter": "python",
      "pygments_lexer": "ipython3",
      "version": "3.9.12"
    },
    "colab": {
      "provenance": []
    }
  },
  "nbformat": 4,
  "nbformat_minor": 5
}